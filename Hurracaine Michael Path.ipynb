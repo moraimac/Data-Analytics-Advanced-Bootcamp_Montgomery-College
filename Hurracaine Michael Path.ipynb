{
 "cells": [
  {
   "cell_type": "markdown",
   "metadata": {},
   "source": [
    "# Download the hurricaneMichael.csv and US_states(5m).json files (Links to an external site.) for this assignment.\n",
    "\n",
    "Using the geopandas library, turn the latitude and longitude columns into a geographical Point data type then make a geodataframe. Plot the path of Hurricane Michael onto the US map in the GeoJSON file.\n",
    "\n",
    "Upload your notebook to Github and submit the URL for this assignment.\n",
    "\n",
    "Tips\n",
    "\n",
    "    After loading the US_states(5m).json file as a geodataframe, use the following code to create a geodataframe that only contains the contiguous United States (48 states):\n",
    "\n",
    "    map48 = map_df.loc[map_df['NAME'].isin(['Alaska', 'Hawaii', 'Puerto Rico']) == False]\n",
    "\n",
    "    The longitude column data should be turned into negative values(data source listed longitude direction instead of positive/negative). Use the following code to make the data correct:\n",
    "\n",
    "    michaeldf['Long'] = 0 - michaeldf['Long']\n",
    "\n",
    "    Feel free to add any additional features to your plot (marker shape, marker color, etc.)\n",
    "\n"
   ]
  },
  {
   "cell_type": "code",
   "execution_count": 1,
   "metadata": {},
   "outputs": [],
   "source": [
    "import pandas as pd\n",
    "import geopandas as gpd #used for transforming geolocation data\n",
    "import matplotlib.pyplot as plt\n",
    "\n",
    "from datetime import datetime  #to convert data to datetime that does not fall within the pandas.to_datetime function timeframe\n",
    "from shapely.geometry import Point  #transform latitude/longitude to geo-coordinate data\n",
    "from geopandas.tools import geocode #get the latitude/longitude for a given address\n",
    "from geopandas.tools import reverse_geocode  #get the address for a location using latitude/longitude\n",
    "\n",
    "%matplotlib inline"
   ]
  },
  {
   "cell_type": "code",
   "execution_count": 2,
   "metadata": {},
   "outputs": [
    {
     "data": {
      "text/html": [
       "<div>\n",
       "<style scoped>\n",
       "    .dataframe tbody tr th:only-of-type {\n",
       "        vertical-align: middle;\n",
       "    }\n",
       "\n",
       "    .dataframe tbody tr th {\n",
       "        vertical-align: top;\n",
       "    }\n",
       "\n",
       "    .dataframe thead th {\n",
       "        text-align: right;\n",
       "    }\n",
       "</style>\n",
       "<table border=\"1\" class=\"dataframe\">\n",
       "  <thead>\n",
       "    <tr style=\"text-align: right;\">\n",
       "      <th></th>\n",
       "      <th>AdvisoryNumber</th>\n",
       "      <th>Date</th>\n",
       "      <th>Lat</th>\n",
       "      <th>Long</th>\n",
       "      <th>Wind</th>\n",
       "      <th>Pres</th>\n",
       "      <th>Movement</th>\n",
       "      <th>Type</th>\n",
       "      <th>Name</th>\n",
       "      <th>Received</th>\n",
       "      <th>Forecaster</th>\n",
       "    </tr>\n",
       "  </thead>\n",
       "  <tbody>\n",
       "    <tr>\n",
       "      <th>0</th>\n",
       "      <td>1</td>\n",
       "      <td>10/6/2018 17:00</td>\n",
       "      <td>18.0</td>\n",
       "      <td>86.6</td>\n",
       "      <td>30</td>\n",
       "      <td>1006</td>\n",
       "      <td>NW at 6 MPH (325 deg)</td>\n",
       "      <td>Potential Tropical Cyclone</td>\n",
       "      <td>Fourteen</td>\n",
       "      <td>10/6/2018 16:50</td>\n",
       "      <td>Beven</td>\n",
       "    </tr>\n",
       "    <tr>\n",
       "      <th>1</th>\n",
       "      <td>1A</td>\n",
       "      <td>10/6/2018 20:00</td>\n",
       "      <td>18.3</td>\n",
       "      <td>86.6</td>\n",
       "      <td>30</td>\n",
       "      <td>1004</td>\n",
       "      <td>N at 6 MPH (360 deg)</td>\n",
       "      <td>Potential Tropical Cyclone</td>\n",
       "      <td>Fourteen</td>\n",
       "      <td>10/6/2018 19:32</td>\n",
       "      <td>Avila</td>\n",
       "    </tr>\n",
       "    <tr>\n",
       "      <th>2</th>\n",
       "      <td>2</td>\n",
       "      <td>10/6/2018 23:00</td>\n",
       "      <td>18.8</td>\n",
       "      <td>86.6</td>\n",
       "      <td>30</td>\n",
       "      <td>1004</td>\n",
       "      <td>N at 7 MPH (360 deg)</td>\n",
       "      <td>Potential Tropical Cyclone</td>\n",
       "      <td>Fourteen</td>\n",
       "      <td>10/6/2018 22:38</td>\n",
       "      <td>Avila</td>\n",
       "    </tr>\n",
       "    <tr>\n",
       "      <th>3</th>\n",
       "      <td>2A</td>\n",
       "      <td>10/7/2018 2:00</td>\n",
       "      <td>18.4</td>\n",
       "      <td>87.1</td>\n",
       "      <td>35</td>\n",
       "      <td>1004</td>\n",
       "      <td>NW at 5 MPH (320 deg)</td>\n",
       "      <td>Potential Tropical Cyclone</td>\n",
       "      <td>Fourteen</td>\n",
       "      <td>10/7/2018 1:38</td>\n",
       "      <td>Berg</td>\n",
       "    </tr>\n",
       "    <tr>\n",
       "      <th>4</th>\n",
       "      <td>3</td>\n",
       "      <td>10/7/2018 5:00</td>\n",
       "      <td>18.6</td>\n",
       "      <td>86.9</td>\n",
       "      <td>35</td>\n",
       "      <td>1004</td>\n",
       "      <td>NNW at 3 MPH (340 deg)</td>\n",
       "      <td>Tropical Depression</td>\n",
       "      <td>FOURTEEN</td>\n",
       "      <td>10/7/2018 4:53</td>\n",
       "      <td>Berg</td>\n",
       "    </tr>\n",
       "  </tbody>\n",
       "</table>\n",
       "</div>"
      ],
      "text/plain": [
       "  AdvisoryNumber             Date   Lat  Long  Wind  Pres  \\\n",
       "0              1  10/6/2018 17:00  18.0  86.6    30  1006   \n",
       "1             1A  10/6/2018 20:00  18.3  86.6    30  1004   \n",
       "2              2  10/6/2018 23:00  18.8  86.6    30  1004   \n",
       "3             2A   10/7/2018 2:00  18.4  87.1    35  1004   \n",
       "4              3   10/7/2018 5:00  18.6  86.9    35  1004   \n",
       "\n",
       "                 Movement                        Type      Name  \\\n",
       "0   NW at 6 MPH (325 deg)  Potential Tropical Cyclone  Fourteen   \n",
       "1    N at 6 MPH (360 deg)  Potential Tropical Cyclone  Fourteen   \n",
       "2    N at 7 MPH (360 deg)  Potential Tropical Cyclone  Fourteen   \n",
       "3   NW at 5 MPH (320 deg)  Potential Tropical Cyclone  Fourteen   \n",
       "4  NNW at 3 MPH (340 deg)         Tropical Depression  FOURTEEN   \n",
       "\n",
       "          Received Forecaster  \n",
       "0  10/6/2018 16:50      Beven  \n",
       "1  10/6/2018 19:32      Avila  \n",
       "2  10/6/2018 22:38      Avila  \n",
       "3   10/7/2018 1:38       Berg  \n",
       "4   10/7/2018 4:53       Berg  "
      ]
     },
     "execution_count": 2,
     "metadata": {},
     "output_type": "execute_result"
    }
   ],
   "source": [
    "#load meteorite data collected from NASA Open Data API\n",
    "df = pd.read_csv(\"../datasets/hurricaneMichael.csv\")\n",
    "df.head()"
   ]
  },
  {
   "cell_type": "code",
   "execution_count": 3,
   "metadata": {},
   "outputs": [],
   "source": [
    "#The longitude column data should be turned into negative values(data source listed longitude direction instead of positive/negative). Use the following code to make the data correct:\n",
    "df['Long'] = 0 - df['Long']"
   ]
  },
  {
   "cell_type": "code",
   "execution_count": 4,
   "metadata": {},
   "outputs": [
    {
     "data": {
      "text/html": [
       "<div>\n",
       "<style scoped>\n",
       "    .dataframe tbody tr th:only-of-type {\n",
       "        vertical-align: middle;\n",
       "    }\n",
       "\n",
       "    .dataframe tbody tr th {\n",
       "        vertical-align: top;\n",
       "    }\n",
       "\n",
       "    .dataframe thead th {\n",
       "        text-align: right;\n",
       "    }\n",
       "</style>\n",
       "<table border=\"1\" class=\"dataframe\">\n",
       "  <thead>\n",
       "    <tr style=\"text-align: right;\">\n",
       "      <th></th>\n",
       "      <th>AdvisoryNumber</th>\n",
       "      <th>Date</th>\n",
       "      <th>Lat</th>\n",
       "      <th>Long</th>\n",
       "      <th>Wind</th>\n",
       "      <th>Pres</th>\n",
       "      <th>Movement</th>\n",
       "      <th>Type</th>\n",
       "      <th>Name</th>\n",
       "      <th>Received</th>\n",
       "      <th>Forecaster</th>\n",
       "    </tr>\n",
       "  </thead>\n",
       "  <tbody>\n",
       "    <tr>\n",
       "      <th>0</th>\n",
       "      <td>1</td>\n",
       "      <td>10/6/2018 17:00</td>\n",
       "      <td>18.0</td>\n",
       "      <td>-86.6</td>\n",
       "      <td>30</td>\n",
       "      <td>1006</td>\n",
       "      <td>NW at 6 MPH (325 deg)</td>\n",
       "      <td>Potential Tropical Cyclone</td>\n",
       "      <td>Fourteen</td>\n",
       "      <td>10/6/2018 16:50</td>\n",
       "      <td>Beven</td>\n",
       "    </tr>\n",
       "    <tr>\n",
       "      <th>1</th>\n",
       "      <td>1A</td>\n",
       "      <td>10/6/2018 20:00</td>\n",
       "      <td>18.3</td>\n",
       "      <td>-86.6</td>\n",
       "      <td>30</td>\n",
       "      <td>1004</td>\n",
       "      <td>N at 6 MPH (360 deg)</td>\n",
       "      <td>Potential Tropical Cyclone</td>\n",
       "      <td>Fourteen</td>\n",
       "      <td>10/6/2018 19:32</td>\n",
       "      <td>Avila</td>\n",
       "    </tr>\n",
       "    <tr>\n",
       "      <th>2</th>\n",
       "      <td>2</td>\n",
       "      <td>10/6/2018 23:00</td>\n",
       "      <td>18.8</td>\n",
       "      <td>-86.6</td>\n",
       "      <td>30</td>\n",
       "      <td>1004</td>\n",
       "      <td>N at 7 MPH (360 deg)</td>\n",
       "      <td>Potential Tropical Cyclone</td>\n",
       "      <td>Fourteen</td>\n",
       "      <td>10/6/2018 22:38</td>\n",
       "      <td>Avila</td>\n",
       "    </tr>\n",
       "    <tr>\n",
       "      <th>3</th>\n",
       "      <td>2A</td>\n",
       "      <td>10/7/2018 2:00</td>\n",
       "      <td>18.4</td>\n",
       "      <td>-87.1</td>\n",
       "      <td>35</td>\n",
       "      <td>1004</td>\n",
       "      <td>NW at 5 MPH (320 deg)</td>\n",
       "      <td>Potential Tropical Cyclone</td>\n",
       "      <td>Fourteen</td>\n",
       "      <td>10/7/2018 1:38</td>\n",
       "      <td>Berg</td>\n",
       "    </tr>\n",
       "    <tr>\n",
       "      <th>4</th>\n",
       "      <td>3</td>\n",
       "      <td>10/7/2018 5:00</td>\n",
       "      <td>18.6</td>\n",
       "      <td>-86.9</td>\n",
       "      <td>35</td>\n",
       "      <td>1004</td>\n",
       "      <td>NNW at 3 MPH (340 deg)</td>\n",
       "      <td>Tropical Depression</td>\n",
       "      <td>FOURTEEN</td>\n",
       "      <td>10/7/2018 4:53</td>\n",
       "      <td>Berg</td>\n",
       "    </tr>\n",
       "  </tbody>\n",
       "</table>\n",
       "</div>"
      ],
      "text/plain": [
       "  AdvisoryNumber             Date   Lat  Long  Wind  Pres  \\\n",
       "0              1  10/6/2018 17:00  18.0 -86.6    30  1006   \n",
       "1             1A  10/6/2018 20:00  18.3 -86.6    30  1004   \n",
       "2              2  10/6/2018 23:00  18.8 -86.6    30  1004   \n",
       "3             2A   10/7/2018 2:00  18.4 -87.1    35  1004   \n",
       "4              3   10/7/2018 5:00  18.6 -86.9    35  1004   \n",
       "\n",
       "                 Movement                        Type      Name  \\\n",
       "0   NW at 6 MPH (325 deg)  Potential Tropical Cyclone  Fourteen   \n",
       "1    N at 6 MPH (360 deg)  Potential Tropical Cyclone  Fourteen   \n",
       "2    N at 7 MPH (360 deg)  Potential Tropical Cyclone  Fourteen   \n",
       "3   NW at 5 MPH (320 deg)  Potential Tropical Cyclone  Fourteen   \n",
       "4  NNW at 3 MPH (340 deg)         Tropical Depression  FOURTEEN   \n",
       "\n",
       "          Received Forecaster  \n",
       "0  10/6/2018 16:50      Beven  \n",
       "1  10/6/2018 19:32      Avila  \n",
       "2  10/6/2018 22:38      Avila  \n",
       "3   10/7/2018 1:38       Berg  \n",
       "4   10/7/2018 4:53       Berg  "
      ]
     },
     "execution_count": 4,
     "metadata": {},
     "output_type": "execute_result"
    }
   ],
   "source": [
    "df.head()"
   ]
  },
  {
   "cell_type": "code",
   "execution_count": 5,
   "metadata": {},
   "outputs": [
    {
     "data": {
      "text/plain": [
       "AdvisoryNumber     object\n",
       "Date               object\n",
       "Lat               float64\n",
       "Long              float64\n",
       "Wind                int64\n",
       "Pres                int64\n",
       "Movement           object\n",
       "Type               object\n",
       "Name               object\n",
       "Received           object\n",
       "Forecaster         object\n",
       "dtype: object"
      ]
     },
     "execution_count": 5,
     "metadata": {},
     "output_type": "execute_result"
    }
   ],
   "source": [
    "df.dtypes"
   ]
  },
  {
   "cell_type": "code",
   "execution_count": 6,
   "metadata": {},
   "outputs": [],
   "source": [
    "\n",
    "#only dataframe with non-null year column values\n",
    "df = df.loc[df['Date'].notnull()]\n"
   ]
  },
  {
   "cell_type": "code",
   "execution_count": 7,
   "metadata": {},
   "outputs": [
    {
     "data": {
      "text/html": [
       "<div>\n",
       "<style scoped>\n",
       "    .dataframe tbody tr th:only-of-type {\n",
       "        vertical-align: middle;\n",
       "    }\n",
       "\n",
       "    .dataframe tbody tr th {\n",
       "        vertical-align: top;\n",
       "    }\n",
       "\n",
       "    .dataframe thead th {\n",
       "        text-align: right;\n",
       "    }\n",
       "</style>\n",
       "<table border=\"1\" class=\"dataframe\">\n",
       "  <thead>\n",
       "    <tr style=\"text-align: right;\">\n",
       "      <th></th>\n",
       "      <th>AdvisoryNumber</th>\n",
       "      <th>Date</th>\n",
       "      <th>Lat</th>\n",
       "      <th>Long</th>\n",
       "      <th>Wind</th>\n",
       "      <th>Pres</th>\n",
       "      <th>Movement</th>\n",
       "      <th>Type</th>\n",
       "      <th>Name</th>\n",
       "      <th>Received</th>\n",
       "      <th>Forecaster</th>\n",
       "    </tr>\n",
       "  </thead>\n",
       "  <tbody>\n",
       "    <tr>\n",
       "      <th>0</th>\n",
       "      <td>1</td>\n",
       "      <td>10/6/2018 17:00</td>\n",
       "      <td>18.0</td>\n",
       "      <td>-86.6</td>\n",
       "      <td>30</td>\n",
       "      <td>1006</td>\n",
       "      <td>NW at 6 MPH (325 deg)</td>\n",
       "      <td>Potential Tropical Cyclone</td>\n",
       "      <td>Fourteen</td>\n",
       "      <td>10/6/2018 16:50</td>\n",
       "      <td>Beven</td>\n",
       "    </tr>\n",
       "    <tr>\n",
       "      <th>1</th>\n",
       "      <td>1A</td>\n",
       "      <td>10/6/2018 20:00</td>\n",
       "      <td>18.3</td>\n",
       "      <td>-86.6</td>\n",
       "      <td>30</td>\n",
       "      <td>1004</td>\n",
       "      <td>N at 6 MPH (360 deg)</td>\n",
       "      <td>Potential Tropical Cyclone</td>\n",
       "      <td>Fourteen</td>\n",
       "      <td>10/6/2018 19:32</td>\n",
       "      <td>Avila</td>\n",
       "    </tr>\n",
       "    <tr>\n",
       "      <th>2</th>\n",
       "      <td>2</td>\n",
       "      <td>10/6/2018 23:00</td>\n",
       "      <td>18.8</td>\n",
       "      <td>-86.6</td>\n",
       "      <td>30</td>\n",
       "      <td>1004</td>\n",
       "      <td>N at 7 MPH (360 deg)</td>\n",
       "      <td>Potential Tropical Cyclone</td>\n",
       "      <td>Fourteen</td>\n",
       "      <td>10/6/2018 22:38</td>\n",
       "      <td>Avila</td>\n",
       "    </tr>\n",
       "    <tr>\n",
       "      <th>3</th>\n",
       "      <td>2A</td>\n",
       "      <td>10/7/2018 2:00</td>\n",
       "      <td>18.4</td>\n",
       "      <td>-87.1</td>\n",
       "      <td>35</td>\n",
       "      <td>1004</td>\n",
       "      <td>NW at 5 MPH (320 deg)</td>\n",
       "      <td>Potential Tropical Cyclone</td>\n",
       "      <td>Fourteen</td>\n",
       "      <td>10/7/2018 1:38</td>\n",
       "      <td>Berg</td>\n",
       "    </tr>\n",
       "    <tr>\n",
       "      <th>4</th>\n",
       "      <td>3</td>\n",
       "      <td>10/7/2018 5:00</td>\n",
       "      <td>18.6</td>\n",
       "      <td>-86.9</td>\n",
       "      <td>35</td>\n",
       "      <td>1004</td>\n",
       "      <td>NNW at 3 MPH (340 deg)</td>\n",
       "      <td>Tropical Depression</td>\n",
       "      <td>FOURTEEN</td>\n",
       "      <td>10/7/2018 4:53</td>\n",
       "      <td>Berg</td>\n",
       "    </tr>\n",
       "  </tbody>\n",
       "</table>\n",
       "</div>"
      ],
      "text/plain": [
       "  AdvisoryNumber             Date   Lat  Long  Wind  Pres  \\\n",
       "0              1  10/6/2018 17:00  18.0 -86.6    30  1006   \n",
       "1             1A  10/6/2018 20:00  18.3 -86.6    30  1004   \n",
       "2              2  10/6/2018 23:00  18.8 -86.6    30  1004   \n",
       "3             2A   10/7/2018 2:00  18.4 -87.1    35  1004   \n",
       "4              3   10/7/2018 5:00  18.6 -86.9    35  1004   \n",
       "\n",
       "                 Movement                        Type      Name  \\\n",
       "0   NW at 6 MPH (325 deg)  Potential Tropical Cyclone  Fourteen   \n",
       "1    N at 6 MPH (360 deg)  Potential Tropical Cyclone  Fourteen   \n",
       "2    N at 7 MPH (360 deg)  Potential Tropical Cyclone  Fourteen   \n",
       "3   NW at 5 MPH (320 deg)  Potential Tropical Cyclone  Fourteen   \n",
       "4  NNW at 3 MPH (340 deg)         Tropical Depression  FOURTEEN   \n",
       "\n",
       "          Received Forecaster  \n",
       "0  10/6/2018 16:50      Beven  \n",
       "1  10/6/2018 19:32      Avila  \n",
       "2  10/6/2018 22:38      Avila  \n",
       "3   10/7/2018 1:38       Berg  \n",
       "4   10/7/2018 4:53       Berg  "
      ]
     },
     "execution_count": 7,
     "metadata": {},
     "output_type": "execute_result"
    }
   ],
   "source": [
    "df.head()"
   ]
  },
  {
   "cell_type": "code",
   "execution_count": 8,
   "metadata": {},
   "outputs": [
    {
     "data": {
      "text/plain": [
       "AdvisoryNumber    45\n",
       "Date              45\n",
       "Lat               45\n",
       "Long              45\n",
       "Wind              45\n",
       "Pres              45\n",
       "Movement          45\n",
       "Type              45\n",
       "Name              45\n",
       "Received          45\n",
       "Forecaster        45\n",
       "dtype: int64"
      ]
     },
     "execution_count": 8,
     "metadata": {},
     "output_type": "execute_result"
    }
   ],
   "source": [
    "#see columns with null values\n",
    "df.count()"
   ]
  },
  {
   "cell_type": "code",
   "execution_count": 9,
   "metadata": {},
   "outputs": [],
   "source": [
    "df =df.dropna()"
   ]
  },
  {
   "cell_type": "code",
   "execution_count": 10,
   "metadata": {},
   "outputs": [
    {
     "data": {
      "text/plain": [
       "AdvisoryNumber    45\n",
       "Date              45\n",
       "Lat               45\n",
       "Long              45\n",
       "Wind              45\n",
       "Pres              45\n",
       "Movement          45\n",
       "Type              45\n",
       "Name              45\n",
       "Received          45\n",
       "Forecaster        45\n",
       "dtype: int64"
      ]
     },
     "execution_count": 10,
     "metadata": {},
     "output_type": "execute_result"
    }
   ],
   "source": [
    "df.count()"
   ]
  },
  {
   "cell_type": "code",
   "execution_count": 11,
   "metadata": {},
   "outputs": [],
   "source": [
    "#make a new column to hold the longitude & latitude as a list\n",
    "df['coordinates'] = list(df[['Long', 'Lat']].values)"
   ]
  },
  {
   "cell_type": "code",
   "execution_count": 12,
   "metadata": {},
   "outputs": [
    {
     "data": {
      "text/html": [
       "<div>\n",
       "<style scoped>\n",
       "    .dataframe tbody tr th:only-of-type {\n",
       "        vertical-align: middle;\n",
       "    }\n",
       "\n",
       "    .dataframe tbody tr th {\n",
       "        vertical-align: top;\n",
       "    }\n",
       "\n",
       "    .dataframe thead th {\n",
       "        text-align: right;\n",
       "    }\n",
       "</style>\n",
       "<table border=\"1\" class=\"dataframe\">\n",
       "  <thead>\n",
       "    <tr style=\"text-align: right;\">\n",
       "      <th></th>\n",
       "      <th>AdvisoryNumber</th>\n",
       "      <th>Date</th>\n",
       "      <th>Lat</th>\n",
       "      <th>Long</th>\n",
       "      <th>Wind</th>\n",
       "      <th>Pres</th>\n",
       "      <th>Movement</th>\n",
       "      <th>Type</th>\n",
       "      <th>Name</th>\n",
       "      <th>Received</th>\n",
       "      <th>Forecaster</th>\n",
       "      <th>coordinates</th>\n",
       "    </tr>\n",
       "  </thead>\n",
       "  <tbody>\n",
       "    <tr>\n",
       "      <th>0</th>\n",
       "      <td>1</td>\n",
       "      <td>10/6/2018 17:00</td>\n",
       "      <td>18.0</td>\n",
       "      <td>-86.6</td>\n",
       "      <td>30</td>\n",
       "      <td>1006</td>\n",
       "      <td>NW at 6 MPH (325 deg)</td>\n",
       "      <td>Potential Tropical Cyclone</td>\n",
       "      <td>Fourteen</td>\n",
       "      <td>10/6/2018 16:50</td>\n",
       "      <td>Beven</td>\n",
       "      <td>[-86.6, 18.0]</td>\n",
       "    </tr>\n",
       "    <tr>\n",
       "      <th>1</th>\n",
       "      <td>1A</td>\n",
       "      <td>10/6/2018 20:00</td>\n",
       "      <td>18.3</td>\n",
       "      <td>-86.6</td>\n",
       "      <td>30</td>\n",
       "      <td>1004</td>\n",
       "      <td>N at 6 MPH (360 deg)</td>\n",
       "      <td>Potential Tropical Cyclone</td>\n",
       "      <td>Fourteen</td>\n",
       "      <td>10/6/2018 19:32</td>\n",
       "      <td>Avila</td>\n",
       "      <td>[-86.6, 18.3]</td>\n",
       "    </tr>\n",
       "    <tr>\n",
       "      <th>2</th>\n",
       "      <td>2</td>\n",
       "      <td>10/6/2018 23:00</td>\n",
       "      <td>18.8</td>\n",
       "      <td>-86.6</td>\n",
       "      <td>30</td>\n",
       "      <td>1004</td>\n",
       "      <td>N at 7 MPH (360 deg)</td>\n",
       "      <td>Potential Tropical Cyclone</td>\n",
       "      <td>Fourteen</td>\n",
       "      <td>10/6/2018 22:38</td>\n",
       "      <td>Avila</td>\n",
       "      <td>[-86.6, 18.8]</td>\n",
       "    </tr>\n",
       "    <tr>\n",
       "      <th>3</th>\n",
       "      <td>2A</td>\n",
       "      <td>10/7/2018 2:00</td>\n",
       "      <td>18.4</td>\n",
       "      <td>-87.1</td>\n",
       "      <td>35</td>\n",
       "      <td>1004</td>\n",
       "      <td>NW at 5 MPH (320 deg)</td>\n",
       "      <td>Potential Tropical Cyclone</td>\n",
       "      <td>Fourteen</td>\n",
       "      <td>10/7/2018 1:38</td>\n",
       "      <td>Berg</td>\n",
       "      <td>[-87.1, 18.4]</td>\n",
       "    </tr>\n",
       "    <tr>\n",
       "      <th>4</th>\n",
       "      <td>3</td>\n",
       "      <td>10/7/2018 5:00</td>\n",
       "      <td>18.6</td>\n",
       "      <td>-86.9</td>\n",
       "      <td>35</td>\n",
       "      <td>1004</td>\n",
       "      <td>NNW at 3 MPH (340 deg)</td>\n",
       "      <td>Tropical Depression</td>\n",
       "      <td>FOURTEEN</td>\n",
       "      <td>10/7/2018 4:53</td>\n",
       "      <td>Berg</td>\n",
       "      <td>[-86.9, 18.6]</td>\n",
       "    </tr>\n",
       "  </tbody>\n",
       "</table>\n",
       "</div>"
      ],
      "text/plain": [
       "  AdvisoryNumber             Date   Lat  Long  Wind  Pres  \\\n",
       "0              1  10/6/2018 17:00  18.0 -86.6    30  1006   \n",
       "1             1A  10/6/2018 20:00  18.3 -86.6    30  1004   \n",
       "2              2  10/6/2018 23:00  18.8 -86.6    30  1004   \n",
       "3             2A   10/7/2018 2:00  18.4 -87.1    35  1004   \n",
       "4              3   10/7/2018 5:00  18.6 -86.9    35  1004   \n",
       "\n",
       "                 Movement                        Type      Name  \\\n",
       "0   NW at 6 MPH (325 deg)  Potential Tropical Cyclone  Fourteen   \n",
       "1    N at 6 MPH (360 deg)  Potential Tropical Cyclone  Fourteen   \n",
       "2    N at 7 MPH (360 deg)  Potential Tropical Cyclone  Fourteen   \n",
       "3   NW at 5 MPH (320 deg)  Potential Tropical Cyclone  Fourteen   \n",
       "4  NNW at 3 MPH (340 deg)         Tropical Depression  FOURTEEN   \n",
       "\n",
       "          Received Forecaster    coordinates  \n",
       "0  10/6/2018 16:50      Beven  [-86.6, 18.0]  \n",
       "1  10/6/2018 19:32      Avila  [-86.6, 18.3]  \n",
       "2  10/6/2018 22:38      Avila  [-86.6, 18.8]  \n",
       "3   10/7/2018 1:38       Berg  [-87.1, 18.4]  \n",
       "4   10/7/2018 4:53       Berg  [-86.9, 18.6]  "
      ]
     },
     "execution_count": 12,
     "metadata": {},
     "output_type": "execute_result"
    }
   ],
   "source": [
    "df.head()"
   ]
  },
  {
   "cell_type": "code",
   "execution_count": 13,
   "metadata": {},
   "outputs": [
    {
     "data": {
      "text/plain": [
       "pandas.core.series.Series"
      ]
     },
     "execution_count": 13,
     "metadata": {},
     "output_type": "execute_result"
    }
   ],
   "source": [
    "type(df['coordinates'])"
   ]
  },
  {
   "cell_type": "code",
   "execution_count": 14,
   "metadata": {},
   "outputs": [
    {
     "data": {
      "text/plain": [
       "45"
      ]
     },
     "execution_count": 14,
     "metadata": {},
     "output_type": "execute_result"
    }
   ],
   "source": [
    "df['coordinates'].count()"
   ]
  },
  {
   "cell_type": "code",
   "execution_count": 15,
   "metadata": {},
   "outputs": [
    {
     "data": {
      "text/plain": [
       "0     [-86.6, 18.0]\n",
       "1     [-86.6, 18.3]\n",
       "2     [-86.6, 18.8]\n",
       "3     [-87.1, 18.4]\n",
       "4     [-86.9, 18.6]\n",
       "5     [-86.8, 18.9]\n",
       "6     [-86.9, 19.2]\n",
       "7     [-86.9, 19.2]\n",
       "8     [-85.5, 19.2]\n",
       "9     [-85.4, 19.9]\n",
       "10    [-85.4, 20.0]\n",
       "11    [-85.5, 20.1]\n",
       "12    [-85.5, 20.6]\n",
       "13    [-85.1, 20.9]\n",
       "14    [-84.9, 21.2]\n",
       "15    [-85.1, 21.7]\n",
       "16    [-85.2, 22.2]\n",
       "17    [-85.2, 22.7]\n",
       "18    [-85.3, 23.2]\n",
       "19    [-85.7, 23.6]\n",
       "20    [-85.9, 24.1]\n",
       "21    [-86.1, 24.5]\n",
       "22    [-86.2, 25.0]\n",
       "23    [-86.4, 25.4]\n",
       "24    [-86.4, 26.0]\n",
       "25    [-86.5, 26.6]\n",
       "26    [-86.5, 27.1]\n",
       "27    [-86.6, 27.7]\n",
       "28    [-86.5, 28.3]\n",
       "29    [-86.3, 29.0]\n",
       "30    [-86.0, 29.4]\n",
       "31    [-85.5, 30.0]\n",
       "32    [-85.1, 30.9]\n",
       "33    [-84.5, 31.5]\n",
       "34    [-83.8, 32.1]\n",
       "35    [-83.2, 32.7]\n",
       "36    [-82.5, 33.5]\n",
       "37    [-81.8, 34.1]\n",
       "38    [-80.8, 34.7]\n",
       "39    [-80.0, 35.7]\n",
       "40    [-78.8, 36.1]\n",
       "41    [-77.8, 36.5]\n",
       "42    [-76.1, 37.1]\n",
       "43    [-75.1, 37.3]\n",
       "44    [-73.1, 38.0]\n",
       "Name: coordinates, dtype: object"
      ]
     },
     "execution_count": 15,
     "metadata": {},
     "output_type": "execute_result"
    }
   ],
   "source": [
    "df['coordinates'].dropna()"
   ]
  },
  {
   "cell_type": "code",
   "execution_count": 23,
   "metadata": {},
   "outputs": [],
   "source": [
    "df['coordinates']=df['coordinates'].apply(Point)"
   ]
  },
  {
   "cell_type": "code",
   "execution_count": 24,
   "metadata": {},
   "outputs": [
    {
     "data": {
      "text/plain": [
       "dtype('O')"
      ]
     },
     "execution_count": 24,
     "metadata": {},
     "output_type": "execute_result"
    }
   ],
   "source": [
    "df['coordinates'].dtypes"
   ]
  },
  {
   "cell_type": "code",
   "execution_count": 25,
   "metadata": {},
   "outputs": [
    {
     "data": {
      "text/plain": [
       "pandas.core.series.Series"
      ]
     },
     "execution_count": 25,
     "metadata": {},
     "output_type": "execute_result"
    }
   ],
   "source": [
    "type(df['coordinates'])"
   ]
  },
  {
   "cell_type": "code",
   "execution_count": 26,
   "metadata": {},
   "outputs": [],
   "source": [
    "geo_df = gpd.GeoDataFrame(df, geometry='coordinates')"
   ]
  },
  {
   "cell_type": "code",
   "execution_count": 27,
   "metadata": {},
   "outputs": [
    {
     "data": {
      "text/html": [
       "<div>\n",
       "<style scoped>\n",
       "    .dataframe tbody tr th:only-of-type {\n",
       "        vertical-align: middle;\n",
       "    }\n",
       "\n",
       "    .dataframe tbody tr th {\n",
       "        vertical-align: top;\n",
       "    }\n",
       "\n",
       "    .dataframe thead th {\n",
       "        text-align: right;\n",
       "    }\n",
       "</style>\n",
       "<table border=\"1\" class=\"dataframe\">\n",
       "  <thead>\n",
       "    <tr style=\"text-align: right;\">\n",
       "      <th></th>\n",
       "      <th>GEO_ID</th>\n",
       "      <th>STATE</th>\n",
       "      <th>NAME</th>\n",
       "      <th>LSAD</th>\n",
       "      <th>CENSUSAREA</th>\n",
       "      <th>geometry</th>\n",
       "    </tr>\n",
       "  </thead>\n",
       "  <tbody>\n",
       "    <tr>\n",
       "      <th>0</th>\n",
       "      <td>0400000US01</td>\n",
       "      <td>01</td>\n",
       "      <td>Alabama</td>\n",
       "      <td></td>\n",
       "      <td>50645.326</td>\n",
       "      <td>MULTIPOLYGON (((-88.12466 30.28364, -88.08681 ...</td>\n",
       "    </tr>\n",
       "    <tr>\n",
       "      <th>1</th>\n",
       "      <td>0400000US02</td>\n",
       "      <td>02</td>\n",
       "      <td>Alaska</td>\n",
       "      <td></td>\n",
       "      <td>570640.950</td>\n",
       "      <td>MULTIPOLYGON (((-166.10574 53.98861, -166.0752...</td>\n",
       "    </tr>\n",
       "    <tr>\n",
       "      <th>2</th>\n",
       "      <td>0400000US04</td>\n",
       "      <td>04</td>\n",
       "      <td>Arizona</td>\n",
       "      <td></td>\n",
       "      <td>113594.084</td>\n",
       "      <td>POLYGON ((-112.53859 37.00067, -112.53454 37.0...</td>\n",
       "    </tr>\n",
       "    <tr>\n",
       "      <th>3</th>\n",
       "      <td>0400000US05</td>\n",
       "      <td>05</td>\n",
       "      <td>Arkansas</td>\n",
       "      <td></td>\n",
       "      <td>52035.477</td>\n",
       "      <td>POLYGON ((-94.04296 33.01922, -94.04304 33.079...</td>\n",
       "    </tr>\n",
       "    <tr>\n",
       "      <th>4</th>\n",
       "      <td>0400000US06</td>\n",
       "      <td>06</td>\n",
       "      <td>California</td>\n",
       "      <td></td>\n",
       "      <td>155779.220</td>\n",
       "      <td>MULTIPOLYGON (((-122.42144 37.86997, -122.4213...</td>\n",
       "    </tr>\n",
       "  </tbody>\n",
       "</table>\n",
       "</div>"
      ],
      "text/plain": [
       "        GEO_ID STATE        NAME LSAD  CENSUSAREA  \\\n",
       "0  0400000US01    01     Alabama        50645.326   \n",
       "1  0400000US02    02      Alaska       570640.950   \n",
       "2  0400000US04    04     Arizona       113594.084   \n",
       "3  0400000US05    05    Arkansas        52035.477   \n",
       "4  0400000US06    06  California       155779.220   \n",
       "\n",
       "                                            geometry  \n",
       "0  MULTIPOLYGON (((-88.12466 30.28364, -88.08681 ...  \n",
       "1  MULTIPOLYGON (((-166.10574 53.98861, -166.0752...  \n",
       "2  POLYGON ((-112.53859 37.00067, -112.53454 37.0...  \n",
       "3  POLYGON ((-94.04296 33.01922, -94.04304 33.079...  \n",
       "4  MULTIPOLYGON (((-122.42144 37.86997, -122.4213...  "
      ]
     },
     "execution_count": 27,
     "metadata": {},
     "output_type": "execute_result"
    }
   ],
   "source": [
    "#import file that contains a world map shape polygons\n",
    "#will use to plot the coordinates of meteorite landings\n",
    "filepath = \"../datasets/US_states(5m).json\"\n",
    "\n",
    "#data contains polygon shape coordinates for different map body types (continents, etc.)\n",
    "map_df = gpd.read_file(filepath)\n",
    "map_df.head()"
   ]
  },
  {
   "cell_type": "code",
   "execution_count": 28,
   "metadata": {},
   "outputs": [
    {
     "data": {
      "text/plain": [
       "<matplotlib.axes._subplots.AxesSubplot at 0x122ad1d2518>"
      ]
     },
     "execution_count": 28,
     "metadata": {},
     "output_type": "execute_result"
    },
    {
     "data": {
      "image/png": "[encoded data removed]",
      "text/plain": [
       "<Figure size 432x288 with 1 Axes>"
      ]
     },
     "metadata": {
      "needs_background": "light"
     },
     "output_type": "display_data"
    }
   ],
   "source": [
    "#map graph\n",
    "map_df.plot()"
   ]
  },
  {
   "cell_type": "code",
   "execution_count": 29,
   "metadata": {},
   "outputs": [],
   "source": [
    "map48 = map_df.loc[map_df['NAME'].isin(['Alaska', 'Hawaii', 'Puerto Rico']) == False]"
   ]
  },
  {
   "cell_type": "code",
   "execution_count": 30,
   "metadata": {},
   "outputs": [
    {
     "data": {
      "text/plain": [
       "<matplotlib.axes._subplots.AxesSubplot at 0x122ad101208>"
      ]
     },
     "execution_count": 30,
     "metadata": {},
     "output_type": "execute_result"
    },
    {
     "data": {
      "image/png": "[encoded data removed]",
      "text/plain": [
       "<Figure size 1080x1080 with 1 Axes>"
      ]
     },
     "metadata": {
      "needs_background": "light"
     },
     "output_type": "display_data"
    }
   ],
   "source": [
    "map48.plot(figsize=(15,15))"
   ]
  },
  {
   "cell_type": "code",
   "execution_count": 32,
   "metadata": {},
   "outputs": [
    {
     "data": {
      "text/plain": [
       "<matplotlib.axes._subplots.AxesSubplot at 0x122ad0052e8>"
      ]
     },
     "execution_count": 32,
     "metadata": {},
     "output_type": "execute_result"
    },
    {
     "data": {
      "image/png": "[encoded data removed]",
      "text/plain": [
       "<Figure size 432x288 with 1 Axes>"
      ]
     },
     "metadata": {
      "needs_background": "light"
     },
     "output_type": "display_data"
    }
   ],
   "source": [
    "geo_df.plot()"
   ]
  },
  {
   "cell_type": "code",
   "execution_count": 33,
   "metadata": {},
   "outputs": [
    {
     "data": {
      "text/plain": [
       "Text(0.5, 1.0, 'Path of Hurracaine Michael')"
      ]
     },
     "execution_count": 33,
     "metadata": {},
     "output_type": "execute_result"
    },
    {
     "data": {
      "image/png": "[encoded data removed]",
      "text/plain": [
       "<Figure size 1080x720 with 1 Axes>"
      ]
     },
     "metadata": {
      "needs_background": "light"
     },
     "output_type": "display_data"
    }
   ],
   "source": [
    "#plot coordinates on top of map graph\n",
    "\n",
    "#this is to set the size of the borders\n",
    "fig, ax = plt.subplots(1, figsize=(15,10))\n",
    "\n",
    "#this is the map\n",
    "basemap = map48.plot(ax=ax)\n",
    "\n",
    "#plot coordinates on top of map graph\n",
    "geo_df.plot(ax=basemap, color='darkred', marker=\".\", markersize=10)\n",
    "\n",
    "#take off axis numbers\n",
    "ax.axis('off')\n",
    "\n",
    "#put title on map\n",
    "ax.set_title(\"Path of Hurracaine Michael\", fontsize=25, fontweight=3)"
   ]
  },
  {
   "cell_type": "code",
   "execution_count": null,
   "metadata": {},
   "outputs": [],
   "source": []
  }
 ],
 "metadata": {
  "kernelspec": {
   "display_name": "Python 3",
   "language": "python",
   "name": "python3"
  },
  "language_info": {
   "codemirror_mode": {
    "name": "ipython",
    "version": 3
   },
   "file_extension": ".py",
   "mimetype": "text/x-python",
   "name": "python",
   "nbconvert_exporter": "python",
   "pygments_lexer": "ipython3",
   "version": "3.7.3"
  }
 },
 "nbformat": 4,
 "nbformat_minor": 2
}
