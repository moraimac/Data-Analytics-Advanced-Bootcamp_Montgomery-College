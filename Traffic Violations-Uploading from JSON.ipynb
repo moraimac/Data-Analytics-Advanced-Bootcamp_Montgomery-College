{
 "cells": [
  {
   "cell_type": "markdown",
   "metadata": {},
   "source": [
    " Due No Due Date Points 10 Submitting a website url\n",
    "\n",
    "From the data.gov website, download the JSON file with traffic violations in Montgomery County, Maryland (Links to an external site.). If you need more descriptive information regarding the features in this dataset, check out the \"Columns in this Dataset\" section of the Montgomery County Open Data Portal for this data: https://data.montgomerycountymd.gov/Public-Safety/Traffic-Violations/4mse-ku6q (Links to an external site.)\n",
    "\n",
    "Extract the data for the following features and make it into a dataframe (HINT: The final data that you need to extract is located in a list. You need to get the data by its index position number in the list. Next to each feature is its index position number for your guidance.):\n",
    "\n",
    "    Date of Stop [9]\n",
    "    Time of Stop [10]\n",
    "    Agency [11]\n",
    "    Subagency [12]\n",
    "    Description [13]\n",
    "    Location [14]\n",
    "    Latitude [15]\n",
    "    Longitude [16]\n",
    "    Vehicle Type [28]\n",
    "    Vehicle Year [29]\n",
    "    Vehicle Make [30]\n",
    "    Vehicle Model [31]\n",
    "    Vehicle Color [32]\n",
    "    Violation Type [33]\n",
    "    Race [37]\n",
    "    Gender [38]\n",
    "    Driver's State [40]\n",
    "    Driver's License State [41]\n",
    "    Arrest Type [42]\n",
    "\n",
    "Upload your code to Github and submit the URL here."
   ]
  },
  {
   "cell_type": "code",
   "execution_count": 1,
   "metadata": {},
   "outputs": [],
   "source": [
    "import pandas as pd\n",
    "import json"
   ]
  },
  {
   "cell_type": "code",
   "execution_count": 2,
   "metadata": {},
   "outputs": [],
   "source": [
    "filepath = \"../datasets/MoCoViolations_2018.json\""
   ]
  },
  {
   "cell_type": "code",
   "execution_count": 3,
   "metadata": {},
   "outputs": [],
   "source": [
    "#data is individual JSON objects not separated by commas\n",
    "#will load data as JSON and put in bigger list to be able to extract values from key\n",
    "\n",
    "with open(filepath, 'r') as read_file:\n",
    "   data = json.load(read_file)\n",
    "    \n",
    "        #look for the pet data"
   ]
  },
  {
   "cell_type": "code",
   "execution_count": 4,
   "metadata": {},
   "outputs": [
    {
     "data": {
      "text/plain": [
       "dict"
      ]
     },
     "execution_count": 4,
     "metadata": {},
     "output_type": "execute_result"
    }
   ],
   "source": [
    "#verify that this is a list type\n",
    "type(data)"
   ]
  },
  {
   "cell_type": "code",
   "execution_count": 5,
   "metadata": {},
   "outputs": [
    {
     "data": {
      "text/plain": [
       "2"
      ]
     },
     "execution_count": 5,
     "metadata": {},
     "output_type": "execute_result"
    }
   ],
   "source": [
    "#check number of items in data list\n",
    "#this is the total number of games in dataset\n",
    "len(data)"
   ]
  },
  {
   "cell_type": "code",
   "execution_count": 6,
   "metadata": {},
   "outputs": [
    {
     "data": {
      "text/plain": [
       "dict_keys(['meta', 'data'])"
      ]
     },
     "execution_count": 6,
     "metadata": {},
     "output_type": "execute_result"
    }
   ],
   "source": [
    "data.keys()"
   ]
  },
  {
   "cell_type": "code",
   "execution_count": 7,
   "metadata": {},
   "outputs": [
    {
     "data": {
      "text/plain": [
       "dict"
      ]
     },
     "execution_count": 7,
     "metadata": {},
     "output_type": "execute_result"
    }
   ],
   "source": [
    "type(data['meta'])"
   ]
  },
  {
   "cell_type": "code",
   "execution_count": 8,
   "metadata": {},
   "outputs": [
    {
     "data": {
      "text/plain": [
       "dict_keys(['view'])"
      ]
     },
     "execution_count": 8,
     "metadata": {},
     "output_type": "execute_result"
    }
   ],
   "source": [
    "data['meta'].keys()"
   ]
  },
  {
   "cell_type": "code",
   "execution_count": 9,
   "metadata": {},
   "outputs": [
    {
     "data": {
      "text/plain": [
       "list"
      ]
     },
     "execution_count": 9,
     "metadata": {},
     "output_type": "execute_result"
    }
   ],
   "source": [
    "type(data['data'])"
   ]
  },
  {
   "cell_type": "code",
   "execution_count": 10,
   "metadata": {},
   "outputs": [
    {
     "data": {
      "text/plain": [
       "<function list.index(value, start=0, stop=9223372036854775807, /)>"
      ]
     },
     "execution_count": 10,
     "metadata": {},
     "output_type": "execute_result"
    }
   ],
   "source": [
    "data['data'].index"
   ]
  },
  {
   "cell_type": "code",
   "execution_count": 11,
   "metadata": {},
   "outputs": [
    {
     "data": {
      "text/plain": [
       "str"
      ]
     },
     "execution_count": 11,
     "metadata": {},
     "output_type": "execute_result"
    }
   ],
   "source": [
    "type(data['data'][0][0])"
   ]
  },
  {
   "cell_type": "code",
   "execution_count": 12,
   "metadata": {},
   "outputs": [
    {
     "data": {
      "text/plain": [
       "218273"
      ]
     },
     "execution_count": 12,
     "metadata": {},
     "output_type": "execute_result"
    }
   ],
   "source": [
    "len(data['data'])"
   ]
  },
  {
   "cell_type": "code",
   "execution_count": 13,
   "metadata": {},
   "outputs": [
    {
     "data": {
      "text/plain": [
       "['row-tb2z_it96-ased',\n",
       " '00000000-0000-0000-D6FB-B97187EB8E43',\n",
       " 0,\n",
       " 1554316021,\n",
       " None,\n",
       " 1554317159,\n",
       " None,\n",
       " '{ }',\n",
       " 'dcf9f7e6-9001-4ac9-b657-94a3cd8b29b8',\n",
       " '2018-12-31T00:00:00',\n",
       " '23:56:00',\n",
       " 'MCP',\n",
       " '1st District, Rockville',\n",
       " 'FAILURE OF VEH. ON HWY. TO DISPLAY LIGHTED LAMPS, ILLUMINATING DEVICE IN UNFAVORABLE VISIBILITY COND',\n",
       " '355 @ FIRST ST',\n",
       " '39.07792',\n",
       " '-77.1404116666667',\n",
       " 'No',\n",
       " 'No',\n",
       " 'No',\n",
       " 'No',\n",
       " 'No',\n",
       " 'Yes',\n",
       " 'No',\n",
       " 'No',\n",
       " 'No',\n",
       " 'No',\n",
       " 'MD',\n",
       " '02 - Automobile',\n",
       " '2007',\n",
       " 'TOYOTA',\n",
       " 'COROLLA',\n",
       " 'BLUE',\n",
       " 'Warning',\n",
       " '22-201.1',\n",
       " 'Transportation Article',\n",
       " 'false',\n",
       " 'BLACK',\n",
       " 'M',\n",
       " 'GERMANTOWN',\n",
       " 'MD',\n",
       " 'MD',\n",
       " 'A - Marked Patrol',\n",
       " [None, '39.07792', '-77.140411666667', None, False, None],\n",
       " '3',\n",
       " '3',\n",
       " '25',\n",
       " '60',\n",
       " '12']"
      ]
     },
     "execution_count": 13,
     "metadata": {},
     "output_type": "execute_result"
    }
   ],
   "source": [
    "data['data'][0]"
   ]
  },
  {
   "cell_type": "code",
   "execution_count": 14,
   "metadata": {},
   "outputs": [
    {
     "data": {
      "text/plain": [
       "'2018-12-31T00:00:00'"
      ]
     },
     "execution_count": 14,
     "metadata": {},
     "output_type": "execute_result"
    }
   ],
   "source": [
    "(data['data'][0][9])"
   ]
  },
  {
   "cell_type": "code",
   "execution_count": 15,
   "metadata": {},
   "outputs": [
    {
     "data": {
      "text/plain": [
       "'MCP'"
      ]
     },
     "execution_count": 15,
     "metadata": {},
     "output_type": "execute_result"
    }
   ],
   "source": [
    "data['data'][1][11]"
   ]
  },
  {
   "cell_type": "code",
   "execution_count": 16,
   "metadata": {},
   "outputs": [
    {
     "data": {
      "text/plain": [
       "'1st District, Rockville'"
      ]
     },
     "execution_count": 16,
     "metadata": {},
     "output_type": "execute_result"
    }
   ],
   "source": [
    "data['data'][0][12]"
   ]
  },
  {
   "cell_type": "code",
   "execution_count": 17,
   "metadata": {},
   "outputs": [
    {
     "data": {
      "text/plain": [
       "'23:56:00'"
      ]
     },
     "execution_count": 17,
     "metadata": {},
     "output_type": "execute_result"
    }
   ],
   "source": [
    "data['data'][0][10]"
   ]
  },
  {
   "cell_type": "code",
   "execution_count": 18,
   "metadata": {},
   "outputs": [
    {
     "data": {
      "text/plain": [
       "'MCP'"
      ]
     },
     "execution_count": 18,
     "metadata": {},
     "output_type": "execute_result"
    }
   ],
   "source": [
    "data['data'][0][11]"
   ]
  },
  {
   "cell_type": "code",
   "execution_count": 19,
   "metadata": {},
   "outputs": [],
   "source": [
    "datels = []\n",
    "timels = []\n",
    "agency= []\n",
    "subag = []\n",
    "descrls = []\n",
    "locats = []\n",
    "latituls = []\n",
    "longituls =[]\n",
    "vtypels = []\n",
    "vyearls = []\n",
    "vmakels = []\n",
    "vmodells = []\n",
    "vcolorls =[]\n",
    "violtype =[]\n",
    "race = []\n",
    "gender = []\n",
    "driverstate = []\n",
    "driverlicstate =[]\n",
    "arresttyls = []"
   ]
  },
  {
   "cell_type": "code",
   "execution_count": 20,
   "metadata": {},
   "outputs": [],
   "source": [
    "for violations in data['data']:\n",
    "    datels.append(violations[9])"
   ]
  },
  {
   "cell_type": "code",
   "execution_count": 21,
   "metadata": {},
   "outputs": [
    {
     "data": {
      "text/plain": [
       "['2018-12-31T00:00:00',\n",
       " '2018-12-31T00:00:00',\n",
       " '2018-12-31T00:00:00',\n",
       " '2018-12-31T00:00:00',\n",
       " '2018-12-31T00:00:00',\n",
       " '2018-12-31T00:00:00',\n",
       " '2018-12-31T00:00:00',\n",
       " '2018-12-31T00:00:00',\n",
       " '2018-12-31T00:00:00',\n",
       " '2018-12-31T00:00:00',\n",
       " '2018-12-31T00:00:00',\n",
       " '2018-12-31T00:00:00',\n",
       " '2018-12-31T00:00:00',\n",
       " '2018-12-31T00:00:00',\n",
       " '2018-12-31T00:00:00',\n",
       " '2018-12-31T00:00:00',\n",
       " '2018-12-31T00:00:00',\n",
       " '2018-12-31T00:00:00',\n",
       " '2018-12-31T00:00:00',\n",
       " '2018-12-31T00:00:00']"
      ]
     },
     "execution_count": 21,
     "metadata": {},
     "output_type": "execute_result"
    }
   ],
   "source": [
    "datels[:20]"
   ]
  },
  {
   "cell_type": "code",
   "execution_count": 22,
   "metadata": {},
   "outputs": [
    {
     "data": {
      "text/plain": [
       "218273"
      ]
     },
     "execution_count": 22,
     "metadata": {},
     "output_type": "execute_result"
    }
   ],
   "source": [
    "len(datels)"
   ]
  },
  {
   "cell_type": "code",
   "execution_count": 23,
   "metadata": {},
   "outputs": [],
   "source": [
    "for time in data['data']:\n",
    "    timels.append(time[10])"
   ]
  },
  {
   "cell_type": "code",
   "execution_count": 24,
   "metadata": {},
   "outputs": [
    {
     "data": {
      "text/plain": [
       "['23:56:00',\n",
       " '23:52:00',\n",
       " '23:52:00',\n",
       " '23:45:00',\n",
       " '23:44:00',\n",
       " '23:44:00',\n",
       " '23:44:00',\n",
       " '23:44:00',\n",
       " '23:44:00',\n",
       " '23:41:00',\n",
       " '23:41:00',\n",
       " '23:40:00',\n",
       " '23:40:00',\n",
       " '23:40:00',\n",
       " '23:40:00',\n",
       " '23:40:00',\n",
       " '23:40:00',\n",
       " '23:40:00',\n",
       " '23:40:00',\n",
       " '23:40:00']"
      ]
     },
     "execution_count": 24,
     "metadata": {},
     "output_type": "execute_result"
    }
   ],
   "source": [
    "timels[:20]"
   ]
  },
  {
   "cell_type": "code",
   "execution_count": 25,
   "metadata": {},
   "outputs": [
    {
     "data": {
      "text/plain": [
       "218273"
      ]
     },
     "execution_count": 25,
     "metadata": {},
     "output_type": "execute_result"
    }
   ],
   "source": [
    "len(timels)"
   ]
  },
  {
   "cell_type": "code",
   "execution_count": 26,
   "metadata": {},
   "outputs": [],
   "source": [
    "for agencies in data['data']:\n",
    "    agency.append(agencies[10])"
   ]
  },
  {
   "cell_type": "code",
   "execution_count": 27,
   "metadata": {},
   "outputs": [
    {
     "data": {
      "text/plain": [
       "218273"
      ]
     },
     "execution_count": 27,
     "metadata": {},
     "output_type": "execute_result"
    }
   ],
   "source": [
    "len(agency)"
   ]
  },
  {
   "cell_type": "code",
   "execution_count": 28,
   "metadata": {},
   "outputs": [
    {
     "data": {
      "text/plain": [
       "['23:56:00',\n",
       " '23:52:00',\n",
       " '23:52:00',\n",
       " '23:45:00',\n",
       " '23:44:00',\n",
       " '23:44:00',\n",
       " '23:44:00',\n",
       " '23:44:00',\n",
       " '23:44:00',\n",
       " '23:41:00',\n",
       " '23:41:00',\n",
       " '23:40:00',\n",
       " '23:40:00',\n",
       " '23:40:00',\n",
       " '23:40:00',\n",
       " '23:40:00',\n",
       " '23:40:00',\n",
       " '23:40:00',\n",
       " '23:40:00',\n",
       " '23:40:00']"
      ]
     },
     "execution_count": 28,
     "metadata": {},
     "output_type": "execute_result"
    }
   ],
   "source": [
    "agency[:20]"
   ]
  },
  {
   "cell_type": "code",
   "execution_count": 29,
   "metadata": {},
   "outputs": [],
   "source": [
    "for subagencies in data['data']:\n",
    "    subag.append(subagencies[12])"
   ]
  },
  {
   "cell_type": "code",
   "execution_count": 30,
   "metadata": {},
   "outputs": [
    {
     "data": {
      "text/plain": [
       "218273"
      ]
     },
     "execution_count": 30,
     "metadata": {},
     "output_type": "execute_result"
    }
   ],
   "source": [
    "len(subag)"
   ]
  },
  {
   "cell_type": "code",
   "execution_count": 31,
   "metadata": {},
   "outputs": [
    {
     "data": {
      "text/plain": [
       "['1st District, Rockville',\n",
       " '6th District, Gaithersburg / Montgomery Village',\n",
       " '6th District, Gaithersburg / Montgomery Village',\n",
       " '1st District, Rockville',\n",
       " 'Headquarters and Special Operations',\n",
       " 'Headquarters and Special Operations',\n",
       " '6th District, Gaithersburg / Montgomery Village',\n",
       " 'Headquarters and Special Operations',\n",
       " '6th District, Gaithersburg / Montgomery Village',\n",
       " '2nd District, Bethesda',\n",
       " '2nd District, Bethesda',\n",
       " '2nd District, Bethesda',\n",
       " '2nd District, Bethesda',\n",
       " '2nd District, Bethesda',\n",
       " '2nd District, Bethesda',\n",
       " '2nd District, Bethesda',\n",
       " '2nd District, Bethesda',\n",
       " '2nd District, Bethesda',\n",
       " '2nd District, Bethesda',\n",
       " '2nd District, Bethesda']"
      ]
     },
     "execution_count": 31,
     "metadata": {},
     "output_type": "execute_result"
    }
   ],
   "source": [
    "subag[:20]"
   ]
  },
  {
   "cell_type": "code",
   "execution_count": 32,
   "metadata": {},
   "outputs": [],
   "source": [
    "for violations in data['data']:\n",
    "    descrls.append(violations[13])"
   ]
  },
  {
   "cell_type": "code",
   "execution_count": 33,
   "metadata": {},
   "outputs": [
    {
     "data": {
      "text/plain": [
       "218273"
      ]
     },
     "execution_count": 33,
     "metadata": {},
     "output_type": "execute_result"
    }
   ],
   "source": [
    "len(descrls)"
   ]
  },
  {
   "cell_type": "code",
   "execution_count": 34,
   "metadata": {},
   "outputs": [
    {
     "data": {
      "text/plain": [
       "['FAILURE OF VEH. ON HWY. TO DISPLAY LIGHTED LAMPS, ILLUMINATING DEVICE IN UNFAVORABLE VISIBILITY COND',\n",
       " 'FAILURE TO DISPLAY TWO LIGHTED FRONT LAMPS WHEN REQUIRED',\n",
       " 'FAILURE OF VEH. ON HWY. TO DISPLAY LIGHTED LAMPS, ILLUMINATING DEVICE IN UNFAVORABLE VISIBILITY COND',\n",
       " 'FAILURE OF VEH. ON HWY. TO DISPLAY LIGHTED LAMPS, ILLUMINATING DEVICE IN UNFAVORABLE VISIBILITY COND',\n",
       " 'FAILURE TO DRIVE VEHICLE ON RIGHT HALF OF ROADWAY WHEN REQUIRED',\n",
       " 'FAILURE TO DISPLAY TWO LIGHTED FRONT LAMPS WHEN REQUIRED',\n",
       " 'FAILURE OF INDIVIDUAL DRIVING ON HIGHWAY TO DISPLAY LICENSE TO UNIFORMED POLICE ON DEMAND',\n",
       " 'FAILURE OF VEH. ON HWY. TO DISPLAY LIGHTED LAMPS, ILLUMINATING DEVICE IN UNFAVORABLE VISIBILITY COND',\n",
       " 'FAILURE OF DR. TO MAKE LANE CH. TO AVAIL. LANE NOT IMMED. ADJ TO STOPPED, STANDING, PARKED VEH.',\n",
       " 'DRIVING VEH. W/O ADEQUATE REAR REG. PLATE ILLUMINATION',\n",
       " 'FAILURE TO DISPLAY REGISTRATION CARD UPON DEMAND BY POLICE OFFICER',\n",
       " 'DRIVING VEHICLE WHILE UNDER THE INFLUENCE OF ALCOHOL',\n",
       " 'FAILURE TO EQUIP VEH. WITH REQUIRED REAR STOP LAMP',\n",
       " 'RECKLESS DRIVING VEHICLE IN WANTON AND WILLFUL DISREGARD FOR SAFETY OF PERSONS AND PROPERTY',\n",
       " 'DRIVING VEHICLE WHILE UNDER THE INFLUENCE OF ALCOHOL PER SE',\n",
       " 'DRIVE ACROSS PRIVATE PROPERTY FOR THE PURPOSE OF AVOIDING TRAFFIC CONTROL DEVICE',\n",
       " 'DRIVING VEH. WHILE IMPAIRED BY ALCOHOL',\n",
       " 'DRIVING VEHICLE IN EXCESS OF REASONABLE AND PRUDENT SPEED ON HIGHWAY',\n",
       " 'DRIVING VEH. WHILE IMPAIRED BY ALCOHOL',\n",
       " 'NEGLIGENT DRIVING VEHICLE IN CARELESS AND IMPRUDENT MANNER ENDANGERING PROPERTY, LIFE AND PERSON']"
      ]
     },
     "execution_count": 34,
     "metadata": {},
     "output_type": "execute_result"
    }
   ],
   "source": [
    "descrls[:20]"
   ]
  },
  {
   "cell_type": "code",
   "execution_count": 35,
   "metadata": {},
   "outputs": [],
   "source": [
    "for location in data['data']:\n",
    "    locats.append(location[14])\n",
    "    latituls.append(location[15])\n",
    "    longituls.append(location[16])"
   ]
  },
  {
   "cell_type": "code",
   "execution_count": 36,
   "metadata": {},
   "outputs": [
    {
     "data": {
      "text/plain": [
       "218273"
      ]
     },
     "execution_count": 36,
     "metadata": {},
     "output_type": "execute_result"
    }
   ],
   "source": [
    "len(locats)"
   ]
  },
  {
   "cell_type": "code",
   "execution_count": 37,
   "metadata": {},
   "outputs": [
    {
     "data": {
      "text/plain": [
       "218273"
      ]
     },
     "execution_count": 37,
     "metadata": {},
     "output_type": "execute_result"
    }
   ],
   "source": [
    "len(latituls)"
   ]
  },
  {
   "cell_type": "code",
   "execution_count": 38,
   "metadata": {},
   "outputs": [
    {
     "data": {
      "text/plain": [
       "['39.07792',\n",
       " '39.1486766666667',\n",
       " '39.1486766666667',\n",
       " '39.08545',\n",
       " '38.997515',\n",
       " '38.997515',\n",
       " '39.1609566666667',\n",
       " '38.997515',\n",
       " '39.1609566666667',\n",
       " '39.0544283333333',\n",
       " '39.0544283333333',\n",
       " '38.99762',\n",
       " '39.047015',\n",
       " '38.99762',\n",
       " '38.99762',\n",
       " '39.047015',\n",
       " '38.99762',\n",
       " '39.047015',\n",
       " '39.047015',\n",
       " '38.99762']"
      ]
     },
     "execution_count": 38,
     "metadata": {},
     "output_type": "execute_result"
    }
   ],
   "source": [
    "latituls[:20]"
   ]
  },
  {
   "cell_type": "code",
   "execution_count": 39,
   "metadata": {},
   "outputs": [],
   "source": [
    "for cars in data['data']:\n",
    "    vtypels.append(cars[28])\n",
    "    vyearls.append(cars[29])\n",
    "    vmakels.append(cars[30])\n",
    "    vmodells.append(cars[31])\n",
    "    vcolorls.append(cars[32])"
   ]
  },
  {
   "cell_type": "code",
   "execution_count": 40,
   "metadata": {},
   "outputs": [],
   "source": [
    "\n",
    "for violations in data ['data']:\n",
    "    violtype.append(violations[33])\n",
    "    race.append(violations[37])\n",
    "    gender.append(violations[38])\n",
    "    driverstate.append(violations[40]) \n",
    "    driverlicstate.append(violations[41])\n",
    "    arresttyls.append(violations[42])\n",
    "  "
   ]
  },
  {
   "cell_type": "code",
   "execution_count": 41,
   "metadata": {},
   "outputs": [
    {
     "data": {
      "text/plain": [
       "218273"
      ]
     },
     "execution_count": 41,
     "metadata": {},
     "output_type": "execute_result"
    }
   ],
   "source": [
    "len(arresttyls)"
   ]
  },
  {
   "cell_type": "code",
   "execution_count": 42,
   "metadata": {},
   "outputs": [
    {
     "data": {
      "text/plain": [
       "['BLACK',\n",
       " 'HISPANIC',\n",
       " 'HISPANIC',\n",
       " 'WHITE',\n",
       " 'BLACK',\n",
       " 'BLACK',\n",
       " 'WHITE',\n",
       " 'BLACK',\n",
       " 'WHITE',\n",
       " 'WHITE',\n",
       " 'WHITE',\n",
       " 'ASIAN',\n",
       " 'BLACK',\n",
       " 'ASIAN',\n",
       " 'ASIAN',\n",
       " 'BLACK',\n",
       " 'ASIAN',\n",
       " 'BLACK',\n",
       " 'BLACK',\n",
       " 'ASIAN']"
      ]
     },
     "execution_count": 42,
     "metadata": {},
     "output_type": "execute_result"
    }
   ],
   "source": [
    "race[:20]"
   ]
  },
  {
   "cell_type": "code",
   "execution_count": 43,
   "metadata": {},
   "outputs": [
    {
     "data": {
      "text/plain": [
       "['A - Marked Patrol',\n",
       " 'A - Marked Patrol',\n",
       " 'A - Marked Patrol',\n",
       " 'A - Marked Patrol',\n",
       " 'A - Marked Patrol',\n",
       " 'A - Marked Patrol',\n",
       " 'A - Marked Patrol',\n",
       " 'A - Marked Patrol',\n",
       " 'A - Marked Patrol',\n",
       " 'A - Marked Patrol',\n",
       " 'A - Marked Patrol',\n",
       " 'A - Marked Patrol',\n",
       " 'A - Marked Patrol',\n",
       " 'A - Marked Patrol',\n",
       " 'A - Marked Patrol',\n",
       " 'A - Marked Patrol',\n",
       " 'A - Marked Patrol',\n",
       " 'A - Marked Patrol',\n",
       " 'A - Marked Patrol',\n",
       " 'A - Marked Patrol']"
      ]
     },
     "execution_count": 43,
     "metadata": {},
     "output_type": "execute_result"
    }
   ],
   "source": [
    "arresttyls[:20]"
   ]
  },
  {
   "cell_type": "code",
   "execution_count": 44,
   "metadata": {},
   "outputs": [
    {
     "data": {
      "text/plain": [
       "218273"
      ]
     },
     "execution_count": 44,
     "metadata": {},
     "output_type": "execute_result"
    }
   ],
   "source": [
    "len(driverstate)"
   ]
  },
  {
   "cell_type": "code",
   "execution_count": 45,
   "metadata": {},
   "outputs": [
    {
     "data": {
      "text/plain": [
       "['MD',\n",
       " 'MD',\n",
       " 'MD',\n",
       " 'MD',\n",
       " 'VA',\n",
       " 'VA',\n",
       " 'MD',\n",
       " 'VA',\n",
       " 'MD',\n",
       " 'MD',\n",
       " 'MD',\n",
       " 'MD',\n",
       " 'MD',\n",
       " 'MD',\n",
       " 'MD',\n",
       " 'MD',\n",
       " 'MD',\n",
       " 'MD',\n",
       " 'MD',\n",
       " 'MD']"
      ]
     },
     "execution_count": 45,
     "metadata": {},
     "output_type": "execute_result"
    }
   ],
   "source": [
    "driverstate[:20]"
   ]
  },
  {
   "cell_type": "code",
   "execution_count": 46,
   "metadata": {},
   "outputs": [],
   "source": [
    "violationslist= list(zip(datels,timels, agency, subag, descrls,locats, latituls, longituls, vtypels, vyearls, vmakels, vmodells, vcolorls, violtype, race, gender, driverstate, driverlicstate, arresttyls))  \n",
    "names=['date','time','agency','subagency','description','location','latitude','longitude','vehicle_type', 'vehicle_year','vehicle_make','vehicle_model','vehicle_color','violation_type','race','gender','driver_state','driver_licence_state','arrest_type'] \n"
   ]
  },
  {
   "cell_type": "code",
   "execution_count": 47,
   "metadata": {},
   "outputs": [
    {
     "data": {
      "text/html": [
       "<div>\n",
       "<style scoped>\n",
       "    .dataframe tbody tr th:only-of-type {\n",
       "        vertical-align: middle;\n",
       "    }\n",
       "\n",
       "    .dataframe tbody tr th {\n",
       "        vertical-align: top;\n",
       "    }\n",
       "\n",
       "    .dataframe thead th {\n",
       "        text-align: right;\n",
       "    }\n",
       "</style>\n",
       "<table border=\"1\" class=\"dataframe\">\n",
       "  <thead>\n",
       "    <tr style=\"text-align: right;\">\n",
       "      <th></th>\n",
       "      <th>date</th>\n",
       "      <th>time</th>\n",
       "      <th>agency</th>\n",
       "      <th>subagency</th>\n",
       "      <th>description</th>\n",
       "      <th>location</th>\n",
       "      <th>latitude</th>\n",
       "      <th>longitude</th>\n",
       "      <th>vehicle_type</th>\n",
       "      <th>vehicle_year</th>\n",
       "      <th>vehicle_make</th>\n",
       "      <th>vehicle_model</th>\n",
       "      <th>vehicle_color</th>\n",
       "      <th>violation_type</th>\n",
       "      <th>race</th>\n",
       "      <th>gender</th>\n",
       "      <th>driver_state</th>\n",
       "      <th>driver_licence_state</th>\n",
       "      <th>arrest_type</th>\n",
       "    </tr>\n",
       "  </thead>\n",
       "  <tbody>\n",
       "    <tr>\n",
       "      <th>0</th>\n",
       "      <td>2018-12-31T00:00:00</td>\n",
       "      <td>23:56:00</td>\n",
       "      <td>23:56:00</td>\n",
       "      <td>1st District, Rockville</td>\n",
       "      <td>FAILURE OF VEH. ON HWY. TO DISPLAY LIGHTED LAM...</td>\n",
       "      <td>355 @ FIRST ST</td>\n",
       "      <td>39.07792</td>\n",
       "      <td>-77.1404116666667</td>\n",
       "      <td>02 - Automobile</td>\n",
       "      <td>2007</td>\n",
       "      <td>TOYOTA</td>\n",
       "      <td>COROLLA</td>\n",
       "      <td>BLUE</td>\n",
       "      <td>Warning</td>\n",
       "      <td>BLACK</td>\n",
       "      <td>M</td>\n",
       "      <td>MD</td>\n",
       "      <td>MD</td>\n",
       "      <td>A - Marked Patrol</td>\n",
       "    </tr>\n",
       "    <tr>\n",
       "      <th>1</th>\n",
       "      <td>2018-12-31T00:00:00</td>\n",
       "      <td>23:52:00</td>\n",
       "      <td>23:52:00</td>\n",
       "      <td>6th District, Gaithersburg / Montgomery Village</td>\n",
       "      <td>FAILURE TO DISPLAY TWO LIGHTED FRONT LAMPS WHE...</td>\n",
       "      <td>N FREDERICK AVE @ ODENDHAL AVE</td>\n",
       "      <td>39.1486766666667</td>\n",
       "      <td>-77.2063433333333</td>\n",
       "      <td>02 - Automobile</td>\n",
       "      <td>2006</td>\n",
       "      <td>LEXUS</td>\n",
       "      <td>4S</td>\n",
       "      <td>GRAY</td>\n",
       "      <td>Warning</td>\n",
       "      <td>HISPANIC</td>\n",
       "      <td>M</td>\n",
       "      <td>MD</td>\n",
       "      <td>MD</td>\n",
       "      <td>A - Marked Patrol</td>\n",
       "    </tr>\n",
       "    <tr>\n",
       "      <th>2</th>\n",
       "      <td>2018-12-31T00:00:00</td>\n",
       "      <td>23:52:00</td>\n",
       "      <td>23:52:00</td>\n",
       "      <td>6th District, Gaithersburg / Montgomery Village</td>\n",
       "      <td>FAILURE OF VEH. ON HWY. TO DISPLAY LIGHTED LAM...</td>\n",
       "      <td>N FREDERICK AVE @ ODENDHAL AVE</td>\n",
       "      <td>39.1486766666667</td>\n",
       "      <td>-77.2063433333333</td>\n",
       "      <td>02 - Automobile</td>\n",
       "      <td>2006</td>\n",
       "      <td>LEXUS</td>\n",
       "      <td>4S</td>\n",
       "      <td>GRAY</td>\n",
       "      <td>Warning</td>\n",
       "      <td>HISPANIC</td>\n",
       "      <td>M</td>\n",
       "      <td>MD</td>\n",
       "      <td>MD</td>\n",
       "      <td>A - Marked Patrol</td>\n",
       "    </tr>\n",
       "    <tr>\n",
       "      <th>3</th>\n",
       "      <td>2018-12-31T00:00:00</td>\n",
       "      <td>23:45:00</td>\n",
       "      <td>23:45:00</td>\n",
       "      <td>1st District, Rockville</td>\n",
       "      <td>FAILURE OF VEH. ON HWY. TO DISPLAY LIGHTED LAM...</td>\n",
       "      <td>355 @ BEAL</td>\n",
       "      <td>39.08545</td>\n",
       "      <td>-77.1451033333333</td>\n",
       "      <td>02 - Automobile</td>\n",
       "      <td>2017</td>\n",
       "      <td>TOYOTA</td>\n",
       "      <td>COROLLA</td>\n",
       "      <td>GRAY</td>\n",
       "      <td>Warning</td>\n",
       "      <td>WHITE</td>\n",
       "      <td>F</td>\n",
       "      <td>MD</td>\n",
       "      <td>MD</td>\n",
       "      <td>A - Marked Patrol</td>\n",
       "    </tr>\n",
       "    <tr>\n",
       "      <th>4</th>\n",
       "      <td>2018-12-31T00:00:00</td>\n",
       "      <td>23:44:00</td>\n",
       "      <td>23:44:00</td>\n",
       "      <td>Headquarters and Special Operations</td>\n",
       "      <td>FAILURE TO DRIVE VEHICLE ON RIGHT HALF OF ROAD...</td>\n",
       "      <td>FENTON ST @ COLESVILLE RD</td>\n",
       "      <td>38.997515</td>\n",
       "      <td>-77.0267766666667</td>\n",
       "      <td>02 - Automobile</td>\n",
       "      <td>2016</td>\n",
       "      <td>CHEVROLET</td>\n",
       "      <td>IMPALA</td>\n",
       "      <td>BLACK</td>\n",
       "      <td>Warning</td>\n",
       "      <td>BLACK</td>\n",
       "      <td>M</td>\n",
       "      <td>VA</td>\n",
       "      <td>VA</td>\n",
       "      <td>A - Marked Patrol</td>\n",
       "    </tr>\n",
       "  </tbody>\n",
       "</table>\n",
       "</div>"
      ],
      "text/plain": [
       "                  date      time    agency  \\\n",
       "0  2018-12-31T00:00:00  23:56:00  23:56:00   \n",
       "1  2018-12-31T00:00:00  23:52:00  23:52:00   \n",
       "2  2018-12-31T00:00:00  23:52:00  23:52:00   \n",
       "3  2018-12-31T00:00:00  23:45:00  23:45:00   \n",
       "4  2018-12-31T00:00:00  23:44:00  23:44:00   \n",
       "\n",
       "                                         subagency  \\\n",
       "0                          1st District, Rockville   \n",
       "1  6th District, Gaithersburg / Montgomery Village   \n",
       "2  6th District, Gaithersburg / Montgomery Village   \n",
       "3                          1st District, Rockville   \n",
       "4              Headquarters and Special Operations   \n",
       "\n",
       "                                         description  \\\n",
       "0  FAILURE OF VEH. ON HWY. TO DISPLAY LIGHTED LAM...   \n",
       "1  FAILURE TO DISPLAY TWO LIGHTED FRONT LAMPS WHE...   \n",
       "2  FAILURE OF VEH. ON HWY. TO DISPLAY LIGHTED LAM...   \n",
       "3  FAILURE OF VEH. ON HWY. TO DISPLAY LIGHTED LAM...   \n",
       "4  FAILURE TO DRIVE VEHICLE ON RIGHT HALF OF ROAD...   \n",
       "\n",
       "                         location          latitude          longitude  \\\n",
       "0                  355 @ FIRST ST          39.07792  -77.1404116666667   \n",
       "1  N FREDERICK AVE @ ODENDHAL AVE  39.1486766666667  -77.2063433333333   \n",
       "2  N FREDERICK AVE @ ODENDHAL AVE  39.1486766666667  -77.2063433333333   \n",
       "3                      355 @ BEAL          39.08545  -77.1451033333333   \n",
       "4       FENTON ST @ COLESVILLE RD         38.997515  -77.0267766666667   \n",
       "\n",
       "      vehicle_type vehicle_year vehicle_make vehicle_model vehicle_color  \\\n",
       "0  02 - Automobile         2007       TOYOTA       COROLLA          BLUE   \n",
       "1  02 - Automobile         2006        LEXUS            4S          GRAY   \n",
       "2  02 - Automobile         2006        LEXUS            4S          GRAY   \n",
       "3  02 - Automobile         2017       TOYOTA       COROLLA          GRAY   \n",
       "4  02 - Automobile         2016    CHEVROLET        IMPALA         BLACK   \n",
       "\n",
       "  violation_type      race gender driver_state driver_licence_state  \\\n",
       "0        Warning     BLACK      M           MD                   MD   \n",
       "1        Warning  HISPANIC      M           MD                   MD   \n",
       "2        Warning  HISPANIC      M           MD                   MD   \n",
       "3        Warning     WHITE      F           MD                   MD   \n",
       "4        Warning     BLACK      M           VA                   VA   \n",
       "\n",
       "         arrest_type  \n",
       "0  A - Marked Patrol  \n",
       "1  A - Marked Patrol  \n",
       "2  A - Marked Patrol  \n",
       "3  A - Marked Patrol  \n",
       "4  A - Marked Patrol  "
      ]
     },
     "execution_count": 47,
     "metadata": {},
     "output_type": "execute_result"
    }
   ],
   "source": [
    "df = pd.DataFrame(violationslist, columns=names)\n",
    "\n",
    "df.head()"
   ]
  },
  {
   "cell_type": "code",
   "execution_count": 48,
   "metadata": {},
   "outputs": [],
   "source": [
    "df.to_csv('trafficviol.csv')"
   ]
  },
  {
   "cell_type": "code",
   "execution_count": null,
   "metadata": {},
   "outputs": [],
   "source": []
  }
 ],
 "metadata": {
  "kernelspec": {
   "display_name": "Python 3",
   "language": "python",
   "name": "python3"
  },
  "language_info": {
   "codemirror_mode": {
    "name": "ipython",
    "version": 3
   },
   "file_extension": ".py",
   "mimetype": "text/x-python",
   "name": "python",
   "nbconvert_exporter": "python",
   "pygments_lexer": "ipython3",
   "version": "3.7.3"
  }
 },
 "nbformat": 4,
 "nbformat_minor": 2
}
